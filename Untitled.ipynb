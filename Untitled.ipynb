{
 "cells": [
  {
   "cell_type": "code",
   "execution_count": 1,
   "id": "centered-overall",
   "metadata": {},
   "outputs": [],
   "source": [
    "import torch.nn as nn\n",
    "import torch.nn.functional as F\n",
    "import torch.optim as optim\n",
    "from torchvision import datasets, transforms"
   ]
  },
  {
   "cell_type": "code",
   "execution_count": 40,
   "id": "blessed-instrument",
   "metadata": {},
   "outputs": [],
   "source": [
    "data_dir = \"/home/ubuntu/dataset/herbarium\"\n",
    "herbarium = datasets.ImageFolder(data_dir)\n",
    "train = \"/dev/shm/dataset/train/\"\n",
    "val = \"/dev/shm/dataset/val/\"\n",
    "herbarium = datasets.ImageFolder(data_dir)"
   ]
  },
  {
   "cell_type": "code",
   "execution_count": 37,
   "id": "molecular-introduction",
   "metadata": {},
   "outputs": [],
   "source": [
    "import os\n",
    "def countDir(data_dir): \n",
    "    data = {}\n",
    "    for i in herbarium.class_to_idx.keys():\n",
    "        DIR = os.path.join(data_dir, i)\n",
    "        data[i] = len([name for name in os.listdir(DIR) if os.path.isfile(os.path.join(DIR, name))]) / 2\n",
    "    return data"
   ]
  },
  {
   "cell_type": "code",
   "execution_count": 38,
   "id": "brief-maldives",
   "metadata": {},
   "outputs": [
    {
     "data": {
      "image/png": "[encoded data removed]",
      "text/plain": [
       "<Figure size 432x288 with 1 Axes>"
      ]
     },
     "metadata": {
      "needs_background": "light"
     },
     "output_type": "display_data"
    }
   ],
   "source": [
    "import matplotlib.pyplot as plt\n",
    "herbarium_data = countDir(data_dir)\n",
    "names = list(herbarium_data.keys())\n",
    "values = list(herbarium_data.values())\n",
    "\n",
    "plt.bar(range(len(herbarium_data)), values, tick_label=names)\n",
    "plt.show()"
   ]
  },
  {
   "cell_type": "code",
   "execution_count": 44,
   "id": "framed-porter",
   "metadata": {},
   "outputs": [
    {
     "name": "stdout",
     "output_type": "stream",
     "text": [
      "997\n"
     ]
    },
    {
     "data": {
      "image/png": "[encoded data removed]",
      "text/plain": [
       "<Figure size 432x288 with 1 Axes>"
      ]
     },
     "metadata": {
      "needs_background": "light"
     },
     "output_type": "display_data"
    }
   ],
   "source": [
    "train_data = countDir(train)\n",
    "print(len(train_data))\n",
    "names = list(train_data.keys())\n",
    "values = list(train_data.values())\n",
    "\n",
    "plt.bar(range(len(train_data)), values, tick_label=names)\n",
    "plt.show()"
   ]
  },
  {
   "cell_type": "code",
   "execution_count": 45,
   "id": "martial-papua",
   "metadata": {},
   "outputs": [
    {
     "name": "stdout",
     "output_type": "stream",
     "text": [
      "997\n"
     ]
    },
    {
     "data": {
      "image/png": "[encoded data removed]",
      "text/plain": [
       "<Figure size 432x288 with 1 Axes>"
      ]
     },
     "metadata": {
      "needs_background": "light"
     },
     "output_type": "display_data"
    }
   ],
   "source": [
    "val_data = countDir(val)\n",
    "print(len(val_data))\n",
    "names = list(val_data.keys())\n",
    "values = list(val_data.values())\n",
    "\n",
    "plt.bar(range(len(val_data)), values, tick_label=names)\n",
    "plt.show()"
   ]
  },
  {
   "cell_type": "code",
   "execution_count": null,
   "id": "standing-printer",
   "metadata": {},
   "outputs": [],
   "source": []
  }
 ],
 "metadata": {
  "kernelspec": {
   "display_name": "pytorch_latest_p37",
   "language": "python",
   "name": "pytorch_latest_p37"
  },
  "language_info": {
   "codemirror_mode": {
    "name": "ipython",
    "version": 3
   },
   "file_extension": ".py",
   "mimetype": "text/x-python",
   "name": "python",
   "nbconvert_exporter": "python",
   "pygments_lexer": "ipython3",
   "version": "3.7.6"
  }
 },
 "nbformat": 4,
 "nbformat_minor": 5
}
